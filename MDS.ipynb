{
 "cells": [
  {
   "cell_type": "code",
   "execution_count": 1,
   "id": "5a469fff-4f24-4373-b734-5fbe41129376",
   "metadata": {},
   "outputs": [
    {
     "name": "stdout",
     "output_type": "stream",
     "text": [
      "        points  assists  blocks  rebounds\n",
      "player                                   \n",
      "A            4        3       7         4\n",
      "B            4        2       3         5\n",
      "C            6        2       6         5\n",
      "D            7        5       7         6\n",
      "E            8        4       5         5\n",
      "F           14        8       8         8\n",
      "G           16        7       8        10\n",
      "H           19        6       4         4\n",
      "I           25        8       2         3\n",
      "J           25       10       2         2\n",
      "K           28       11       1         2\n"
     ]
    }
   ],
   "source": [
    "#Misalkan kita memiliki DataFrame yang berisi informasi tentang berbagai pemain bola basket:\n",
    "import pandas as pd\n",
    "\n",
    "#create DataFrane\n",
    "df = pd.DataFrame({'player': ['A', 'B', 'C', 'D', 'E', 'F', 'G', 'H', 'I', 'J', 'K'],\n",
    "                   'points': [4, 4, 6, 7, 8, 14, 16, 19, 25, 25, 28],\n",
    "                   'assists': [3, 2, 2, 5, 4, 8, 7, 6, 8, 10, 11],\n",
    "                   'blocks': [7, 3, 6, 7, 5, 8, 8, 4, 2, 2, 1],\n",
    "                   'rebounds': [4, 5, 5, 6, 5, 8, 10, 4, 3, 2, 2]})\n",
    "\n",
    "#set player column as index column\n",
    "df = df.set_index('player')\n",
    "\n",
    "#view Dataframe\n",
    "print(df)"
   ]
  },
  {
   "cell_type": "code",
   "execution_count": 2,
   "id": "9f27417e-7133-404c-99a9-b81841b4f852",
   "metadata": {},
   "outputs": [
    {
     "name": "stdout",
     "output_type": "stream",
     "text": [
      "[[  7.43654469   8.10247222]\n",
      " [  4.13193821  10.27360901]\n",
      " [  5.20534681   7.46919526]\n",
      " [  6.22323046   4.45148627]\n",
      " [  3.74110999   5.25591459]\n",
      " [  3.69073384  -2.88017811]\n",
      " [  3.89092087  -5.19100988]\n",
      " [ -3.68593169  -3.0821144 ]\n",
      " [ -9.13631889  -6.81016012]\n",
      " [ -8.97898385  -8.50414387]\n",
      " [-12.51859044  -9.08507097]]\n"
     ]
    }
   ],
   "source": [
    "#MDS() function from the sklearn.manifold module:\n",
    "from sklearn.manifold import MDS\n",
    "\n",
    "#perform multi-dimensional scaling\n",
    "mds = MDS(random_state=0)\n",
    "scaled_df = mds.fit_transform(df)\n",
    "\n",
    "#view results of multi-dimensional scaling\n",
    "print(scaled_df)"
   ]
  },
  {
   "cell_type": "code",
   "execution_count": 3,
   "id": "be509bd6-caf2-4edb-83ee-0850e94df7f3",
   "metadata": {},
   "outputs": [
    {
     "data": {
      "image/png": "[encoded data removed]",
      "text/plain": [
       "<Figure size 432x288 with 1 Axes>"
      ]
     },
     "metadata": {
      "needs_background": "light"
     },
     "output_type": "display_data"
    }
   ],
   "source": [
    "# Setiap baris DataFrame asli telah direduksi menjadi koordinat (x, y).\n",
    "# Kita dapat menggunakan kode berikut untuk memvisualisasikan koordinat ini dalam ruang 2-D:\n",
    "import matplotlib.pyplot as plt\n",
    "\n",
    "#create scatterplot\n",
    "plt.scatter(scaled_df[:,0], scaled_df[:,1])\n",
    "\n",
    "#add axis labels\n",
    "plt.xlabel('Coordinate 1')\n",
    "plt.ylabel('Coordinate 2')\n",
    "\n",
    "#add lables to each point\n",
    "for i, txt in enumerate(df.index):\n",
    "    plt.annotate(txt, (scaled_df[:,0][i]+.3, scaled_df[:,1][i]))\n",
    "\n",
    "#display scatterplot\n",
    "plt.show()"
   ]
  },
  {
   "cell_type": "code",
   "execution_count": 4,
   "id": "52edbaa1-1083-4d78-aaeb-7149ea67720b",
   "metadata": {},
   "outputs": [],
   "source": [
    "#Pemain dari DataFrame asli yang memiliki nilai serupa di empat kolom asli \n",
    "#(poin, assist, blok, dan rebound) terletak berdekatan satu sama lain dalam plot.\n"
   ]
  },
  {
   "cell_type": "code",
   "execution_count": 5,
   "id": "eee350e3-e7e5-448f-90ea-3689f7d22020",
   "metadata": {},
   "outputs": [
    {
     "data": {
      "text/html": [
       "<div>\n",
       "<style scoped>\n",
       "    .dataframe tbody tr th:only-of-type {\n",
       "        vertical-align: middle;\n",
       "    }\n",
       "\n",
       "    .dataframe tbody tr th {\n",
       "        vertical-align: top;\n",
       "    }\n",
       "\n",
       "    .dataframe thead th {\n",
       "        text-align: right;\n",
       "    }\n",
       "</style>\n",
       "<table border=\"1\" class=\"dataframe\">\n",
       "  <thead>\n",
       "    <tr style=\"text-align: right;\">\n",
       "      <th></th>\n",
       "      <th>points</th>\n",
       "      <th>assists</th>\n",
       "      <th>blocks</th>\n",
       "      <th>rebounds</th>\n",
       "    </tr>\n",
       "    <tr>\n",
       "      <th>player</th>\n",
       "      <th></th>\n",
       "      <th></th>\n",
       "      <th></th>\n",
       "      <th></th>\n",
       "    </tr>\n",
       "  </thead>\n",
       "  <tbody>\n",
       "    <tr>\n",
       "      <th>F</th>\n",
       "      <td>14</td>\n",
       "      <td>8</td>\n",
       "      <td>8</td>\n",
       "      <td>8</td>\n",
       "    </tr>\n",
       "    <tr>\n",
       "      <th>G</th>\n",
       "      <td>16</td>\n",
       "      <td>7</td>\n",
       "      <td>8</td>\n",
       "      <td>10</td>\n",
       "    </tr>\n",
       "  </tbody>\n",
       "</table>\n",
       "</div>"
      ],
      "text/plain": [
       "        points  assists  blocks  rebounds\n",
       "player                                   \n",
       "F           14        8       8         8\n",
       "G           16        7       8        10"
      ]
     },
     "execution_count": 5,
     "metadata": {},
     "output_type": "execute_result"
    }
   ],
   "source": [
    "#Misalnya, pemain F dan G terletak berdekatan satu sama lain. Berikut adalah nilainya dari DataFrame asli:\n",
    "#select rows with index labels 'F' and 'G'\n",
    "df.loc[['F', 'G']]"
   ]
  },
  {
   "cell_type": "code",
   "execution_count": 6,
   "id": "68c2a0ed-3c67-408b-8140-f96eb5a7e541",
   "metadata": {},
   "outputs": [],
   "source": [
    "# Nilai mereka untuk poin, assist, blok, dan rebound semuanya cukup mirip, \n",
    "# yang menjelaskan mengapa mereka terletak sangat berdekatan dalam plot 2-D.\n",
    "\n",
    "#Sebaliknya, pertimbangkan pemain B dan K yang terletak berjauhan di plot.\n",
    "#Jika kita mengacu pada nilainya di DataFrame asli, kita dapat melihat bahwa mereka sangat berbeda:"
   ]
  },
  {
   "cell_type": "code",
   "execution_count": 7,
   "id": "2ab3f8fa-f85b-4c55-8edf-f7e0a6c991b4",
   "metadata": {},
   "outputs": [
    {
     "data": {
      "text/html": [
       "<div>\n",
       "<style scoped>\n",
       "    .dataframe tbody tr th:only-of-type {\n",
       "        vertical-align: middle;\n",
       "    }\n",
       "\n",
       "    .dataframe tbody tr th {\n",
       "        vertical-align: top;\n",
       "    }\n",
       "\n",
       "    .dataframe thead th {\n",
       "        text-align: right;\n",
       "    }\n",
       "</style>\n",
       "<table border=\"1\" class=\"dataframe\">\n",
       "  <thead>\n",
       "    <tr style=\"text-align: right;\">\n",
       "      <th></th>\n",
       "      <th>points</th>\n",
       "      <th>assists</th>\n",
       "      <th>blocks</th>\n",
       "      <th>rebounds</th>\n",
       "    </tr>\n",
       "    <tr>\n",
       "      <th>player</th>\n",
       "      <th></th>\n",
       "      <th></th>\n",
       "      <th></th>\n",
       "      <th></th>\n",
       "    </tr>\n",
       "  </thead>\n",
       "  <tbody>\n",
       "    <tr>\n",
       "      <th>B</th>\n",
       "      <td>4</td>\n",
       "      <td>2</td>\n",
       "      <td>3</td>\n",
       "      <td>5</td>\n",
       "    </tr>\n",
       "    <tr>\n",
       "      <th>K</th>\n",
       "      <td>28</td>\n",
       "      <td>11</td>\n",
       "      <td>1</td>\n",
       "      <td>2</td>\n",
       "    </tr>\n",
       "  </tbody>\n",
       "</table>\n",
       "</div>"
      ],
      "text/plain": [
       "        points  assists  blocks  rebounds\n",
       "player                                   \n",
       "B            4        2       3         5\n",
       "K           28       11       1         2"
      ]
     },
     "execution_count": 7,
     "metadata": {},
     "output_type": "execute_result"
    }
   ],
   "source": [
    "#select rows with index labels 'B' and 'K'\n",
    "df.loc[['B', 'K']]"
   ]
  },
  {
   "cell_type": "code",
   "execution_count": 8,
   "id": "b10d580c-6751-46d0-bae6-de107c9e9da3",
   "metadata": {},
   "outputs": [],
   "source": [
    "#Dengan demikian, plot 2-D adalah cara yang bagus untuk memvisualisasikan seberapa mirip \n",
    "#setiap pemain di semua variabel dalam DataFframe.\n",
    "# Pemain yang memiliki statistik yang sama dikelompokkan berdekatan sementara pemain \n",
    "#yang memiliki statistik yang sangat berbeda terletak berjauhan satu sama lain dalam plot."
   ]
  },
  {
   "cell_type": "markdown",
   "id": "fc6df104-8357-4009-9f0b-2d46298978a1",
   "metadata": {},
   "source": [
    "# 2. Multidimensional Scaling (MVMDS)"
   ]
  },
  {
   "cell_type": "code",
   "execution_count": 9,
   "id": "c84c1daf-97c9-47e0-96d3-1a419d38167c",
   "metadata": {},
   "outputs": [],
   "source": [
    "# License: MIT\n",
    "#Install mvlearn via pip install mvlearn\n",
    "from mvlearn.datasets import load_UCImultifeature\n",
    "from mvlearn.embed import MVMDS\n",
    "import seaborn as sns\n",
    "import matplotlib.pyplot as plt\n",
    "import numpy as np\n",
    "from sklearn.decomposition import PCA"
   ]
  },
  {
   "cell_type": "code",
   "execution_count": null,
   "id": "dd5d3219-0843-4448-aca0-fe2fb766413d",
   "metadata": {},
   "outputs": [],
   "source": []
  },
  {
   "cell_type": "code",
   "execution_count": null,
   "id": "940ba51c-1a68-4a56-9b28-0c710c1d4d4b",
   "metadata": {},
   "outputs": [],
   "source": []
  }
 ],
 "metadata": {
  "kernelspec": {
   "display_name": "Python 3",
   "language": "python",
   "name": "python3"
  },
  "language_info": {
   "codemirror_mode": {
    "name": "ipython",
    "version": 3
   },
   "file_extension": ".py",
   "mimetype": "text/x-python",
   "name": "python",
   "nbconvert_exporter": "python",
   "pygments_lexer": "ipython3",
   "version": "3.8.9"
  }
 },
 "nbformat": 4,
 "nbformat_minor": 5
}
